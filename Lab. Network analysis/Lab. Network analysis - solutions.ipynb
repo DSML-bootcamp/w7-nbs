{
 "cells": [
  {
   "cell_type": "markdown",
   "id": "6b17e7e0",
   "metadata": {},
   "source": [
    "# Lab: Network Analysis"
   ]
  },
  {
   "cell_type": "markdown",
   "id": "1c970f5e",
   "metadata": {},
   "source": [
    "## Covid-19 Dataset\n",
    "The paper \"Statistical and Network-Based Analysis of Italian COVID-19 Data: Communities Detection and Temporal Evolution\" presents an analysis pipeline with the goal of investigating similarity among Italian regions with respect to data provided by Italian Civil Protection and to identify clusters of regions with similar behavior.\n",
    "\n",
    "The paper analyze ten types of available COVID-19 data (Hospitalized with Symptoms, Intensive Care Total, Hospitalized Home Isolation, Total Currently Positive, New Currently Positive, Discharged/Healed, Deceased Total Cases, Swabs). **The global analysis pipeline is explained in Section 2 of the paper**."
   ]
  },
  {
   "cell_type": "markdown",
   "id": "735a1652",
   "metadata": {},
   "source": [
    "Here we work with the Total Currently Positive (from Table A25 in the paper). The main idea is building a similarity matrix that records the similarity among a pair of regions with respect to an Italian COVID-19 data measure (in our case, the Total Currently Positive). The similarity is computed by applying the statistical test: the Wilcoxon Sum Rank Test. Therefore, the (i, j) value of the matrix represents the p-value of the Wilcoxon statistical test obtained by performing the test on the Total Currently Positive measures of region i with respect to region j. Using the similarity matrices, the networks can be built and analysed."
   ]
  },
  {
   "cell_type": "markdown",
   "id": "0d1cfbe2",
   "metadata": {},
   "source": [
    "1. Load the data set and clean it for further study"
   ]
  },
  {
   "cell_type": "code",
   "execution_count": null,
   "id": "63f4668b",
   "metadata": {},
   "outputs": [],
   "source": [
    "import pandas as pd\n",
    "df_covid19 = pd.read_csv(\"files/covid19-ita-regions.csv\", sep=\";\")\n",
    "print(df_covid19.shape)\n",
    "df_covid19.head()"
   ]
  },
  {
   "cell_type": "code",
   "execution_count": null,
   "id": "b9ab81d5",
   "metadata": {},
   "outputs": [],
   "source": [
    "df_covid19.rename(columns={\"Unnamed: 0\": \"region\"}, inplace=True)\n",
    "df_covid19.head()"
   ]
  },
  {
   "cell_type": "code",
   "execution_count": null,
   "id": "150a5b7d",
   "metadata": {},
   "outputs": [],
   "source": [
    "df_covid19.set_index('region', inplace=True)\n",
    "df_covid19.head()"
   ]
  },
  {
   "cell_type": "markdown",
   "id": "5dc53c81",
   "metadata": {},
   "source": [
    "2. After loading and cleaning the COVID-19 data, how can you create and visualize a network graph using NetworkX and Matplotlib?"
   ]
  },
  {
   "cell_type": "code",
   "execution_count": null,
   "id": "ca9ef083",
   "metadata": {},
   "outputs": [],
   "source": [
    "g_covid19 = nx.from_pandas_adjacency(df_covid19)"
   ]
  },
  {
   "cell_type": "code",
   "execution_count": null,
   "id": "bb387720",
   "metadata": {},
   "outputs": [],
   "source": [
    "nx.draw_networkx(g_covid19)\n",
    "plt.axis('off') "
   ]
  },
  {
   "cell_type": "markdown",
   "id": "7f2a218c",
   "metadata": {},
   "source": [
    "3. How do you apply the spring layout to iterate the positions of nodes in the network graph?"
   ]
  },
  {
   "cell_type": "code",
   "execution_count": null,
   "id": "9475cf90",
   "metadata": {},
   "outputs": [],
   "source": [
    "poscovid19 = nx.spring_layout(g_covid19, iterations=1000)"
   ]
  },
  {
   "cell_type": "markdown",
   "id": "1574934e",
   "metadata": {},
   "source": [
    "4. After computing the positions using the spring layout, how can you redraw the network graph with adjusted node positions and transparency?"
   ]
  },
  {
   "cell_type": "code",
   "execution_count": null,
   "id": "cfbd0a9d",
   "metadata": {},
   "outputs": [],
   "source": [
    "nx.draw_networkx(g_covid19, pos=poscovid19, alpha=.5) #draw the entire network graph\n",
    "plt.axis('off') #turns off the axis lines and labels"
   ]
  },
  {
   "cell_type": "markdown",
   "id": "307a3535",
   "metadata": {},
   "source": [
    "5. How can you extract the communities of the graph using the Louvain method?"
   ]
  },
  {
   "cell_type": "code",
   "execution_count": null,
   "id": "9e031694",
   "metadata": {},
   "outputs": [],
   "source": [
    "import community as community_louvain\n",
    "\n",
    "# Extracting communities using the Louvain method\n",
    "partition = community_louvain.best_partition(g_covid19)\n",
    "\n",
    "# Displaying the partition (communities)\n",
    "print(partition)"
   ]
  },
  {
   "cell_type": "markdown",
   "id": "4991e4f2",
   "metadata": {},
   "source": [
    "6. How can you print the number of communities found in the graph?"
   ]
  },
  {
   "cell_type": "code",
   "execution_count": null,
   "id": "29498c41",
   "metadata": {},
   "outputs": [],
   "source": [
    "# Calculating the number of communities\n",
    "num_communities = len(set(partition.values()))\n",
    "\n",
    "# Printing the number of communities\n",
    "print(f\"Number of communities found: {num_communities}\")"
   ]
  },
  {
   "cell_type": "markdown",
   "id": "f29deab9",
   "metadata": {},
   "source": [
    "7. How can you draw the communities in the graph with different colors?"
   ]
  },
  {
   "cell_type": "code",
   "execution_count": null,
   "id": "ab85046e",
   "metadata": {},
   "outputs": [],
   "source": [
    "# Drawing the network with community colors\n",
    "pos = nx.spring_layout(g_covid19)\n",
    "cmap = plt.get_cmap('viridis')\n",
    "for community in set(partition.values()):\n",
    "    nodes = [nodes for nodes in partition.keys() if partition[nodes] == community]\n",
    "    nx.draw_networkx_nodes(g_covid19, pos, nodes, node_size=50, node_color=[cmap(community / len(set(partition.values())))])\n",
    "nx.draw_networkx_edges(g_covid19, pos, alpha=0.5)\n",
    "plt.axis('off')\n",
    "plt.show()"
   ]
  }
 ],
 "metadata": {
  "kernelspec": {
   "display_name": "Python 3 (ipykernel)",
   "language": "python",
   "name": "python3"
  },
  "language_info": {
   "codemirror_mode": {
    "name": "ipython",
    "version": 3
   },
   "file_extension": ".py",
   "mimetype": "text/x-python",
   "name": "python",
   "nbconvert_exporter": "python",
   "pygments_lexer": "ipython3",
   "version": "3.11.5"
  }
 },
 "nbformat": 4,
 "nbformat_minor": 5
}
