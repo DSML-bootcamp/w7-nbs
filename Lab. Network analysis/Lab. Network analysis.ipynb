{
 "cells": [
  {
   "cell_type": "markdown",
   "id": "d679d581",
   "metadata": {},
   "source": [
    "# Lab: Network Analysis"
   ]
  },
  {
   "cell_type": "markdown",
   "id": "c39c986e",
   "metadata": {},
   "source": [
    "## Covid-19 Dataset\n",
    "The paper \"Statistical and Network-Based Analysis of Italian COVID-19 Data: Communities Detection and Temporal Evolution\" presents an analysis pipeline with the goal of investigating similarity among Italian regions with respect to data provided by Italian Civil Protection and to identify clusters of regions with similar behavior.\n",
    "\n",
    "The paper analyze ten types of available COVID-19 data (Hospitalized with Symptoms, Intensive Care Total, Hospitalized Home Isolation, Total Currently Positive, New Currently Positive, Discharged/Healed, Deceased Total Cases, Swabs). **The global analysis pipeline is explained in Section 2 of the paper**."
   ]
  },
  {
   "cell_type": "markdown",
   "id": "c9d6f515",
   "metadata": {},
   "source": [
    "Here we work with the Total Currently Positive (from Table A25 in the paper). The main idea is building a similarity matrix that records the similarity among a pair of regions with respect to an Italian COVID-19 data measure (in our case, the Total Currently Positive). The similarity is computed by applying the statistical test: the Wilcoxon Sum Rank Test. Therefore, the (i, j) value of the matrix represents the p-value of the Wilcoxon statistical test obtained by performing the test on the Total Currently Positive measures of region i with respect to region j. Using the similarity matrices, the networks can be built and analysed."
   ]
  },
  {
   "cell_type": "markdown",
   "id": "3cd9334e",
   "metadata": {},
   "source": [
    "1. Load the data set and clean it for further study"
   ]
  },
  {
   "cell_type": "code",
   "execution_count": null,
   "id": "e781604f",
   "metadata": {},
   "outputs": [],
   "source": [
    "#Your code here"
   ]
  },
  {
   "cell_type": "markdown",
   "id": "07786821",
   "metadata": {},
   "source": [
    "2. After loading and cleaning the COVID-19 data, how can you create and visualize a network graph using NetworkX and Matplotlib?"
   ]
  },
  {
   "cell_type": "code",
   "execution_count": null,
   "id": "6a8e05ad",
   "metadata": {},
   "outputs": [],
   "source": [
    "#Your code here"
   ]
  },
  {
   "cell_type": "markdown",
   "id": "5b34d5fc",
   "metadata": {},
   "source": [
    "3. How do you apply the spring layout to iterate the positions of nodes in the network graph?"
   ]
  },
  {
   "cell_type": "code",
   "execution_count": null,
   "id": "976cc013",
   "metadata": {},
   "outputs": [],
   "source": [
    "#Your code here"
   ]
  },
  {
   "cell_type": "markdown",
   "id": "4211c7dc",
   "metadata": {},
   "source": [
    "4. After computing the positions using the spring layout, how can you redraw the network graph with adjusted node positions and transparency?"
   ]
  },
  {
   "cell_type": "code",
   "execution_count": null,
   "id": "889c6c1a",
   "metadata": {},
   "outputs": [],
   "source": [
    "#Your code here"
   ]
  },
  {
   "cell_type": "markdown",
   "id": "68c8fe19",
   "metadata": {},
   "source": [
    "5. How can you extract the communities of the graph using the Louvain method?"
   ]
  },
  {
   "cell_type": "code",
   "execution_count": null,
   "id": "5bd034c4",
   "metadata": {},
   "outputs": [],
   "source": [
    "#Your code here"
   ]
  },
  {
   "cell_type": "markdown",
   "id": "f6487b01",
   "metadata": {},
   "source": [
    "6. How can you print the number of communities found in the graph?"
   ]
  },
  {
   "cell_type": "code",
   "execution_count": null,
   "id": "287ac060",
   "metadata": {},
   "outputs": [],
   "source": [
    "#Your code here"
   ]
  },
  {
   "cell_type": "markdown",
   "id": "9d53ac59",
   "metadata": {},
   "source": [
    "7. How can you draw the communities in the graph with different colors?"
   ]
  },
  {
   "cell_type": "code",
   "execution_count": null,
   "id": "5e0b2463",
   "metadata": {},
   "outputs": [],
   "source": [
    "#Your code here"
   ]
  },
  {
   "cell_type": "markdown",
   "id": "b7b0494e",
   "metadata": {},
   "source": [
    "8. What conclusions can you get?"
   ]
  },
  {
   "cell_type": "markdown",
   "id": "987999ee",
   "metadata": {},
   "source": [
    "Your conclusions here:"
   ]
  }
 ],
 "metadata": {
  "kernelspec": {
   "display_name": "Python 3 (ipykernel)",
   "language": "python",
   "name": "python3"
  },
  "language_info": {
   "codemirror_mode": {
    "name": "ipython",
    "version": 3
   },
   "file_extension": ".py",
   "mimetype": "text/x-python",
   "name": "python",
   "nbconvert_exporter": "python",
   "pygments_lexer": "ipython3",
   "version": "3.11.5"
  }
 },
 "nbformat": 4,
 "nbformat_minor": 5
}
