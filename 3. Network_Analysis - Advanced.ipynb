{
 "cells": [
  {
   "cell_type": "code",
   "execution_count": null,
   "metadata": {},
   "outputs": [],
   "source": [
    "import itertools\n",
    "import random\n",
    "import matplotlib.pyplot as plt\n",
    "\n",
    "%matplotlib inline\n",
    "import networkx as nx"
   ]
  },
  {
   "cell_type": "markdown",
   "metadata": {},
   "source": [
    "#  Network models\n",
    "\n",
    "### Table of contents\n",
    "1. Random network model\n",
    "\n",
    "2. Small-World model\n",
    "\n",
    "3. Preferential attachment model"
   ]
  },
  {
   "cell_type": "markdown",
   "metadata": {},
   "source": [
    "To systematically study networks, we use various models that help us understand different aspects of network structure and dynamics. In this notebook, we will explore three foundational network models: the **Random Network Model**, the **Small-World Model**, and the **Preferential Attachment Model**. Each of these models provides unique insights into how networks are formed and how they function."
   ]
  },
  {
   "cell_type": "markdown",
   "metadata": {},
   "source": [
    "## 1. Random Network Model\n",
    "\n",
    "\n",
    "The Random Network Model, is one of the **earliest and simplest models** of network formation. It assumes that connections between nodes occur randomly, which can be useful for understanding the properties of networks where connections are not strongly influenced by the nodes themselves.\n",
    "\n",
    "\n",
    "\n",
    "The random network model has two parameters: the number of nodes $N$, and the link probability $p$. The algorithm for creating this network is as follows:\n",
    "\n",
    "1. Select a pair of nodes, say i and j.\n",
    "2. Generate a random number r between 0 and 1. If r < p, then add a link between i and j.\n",
    "3. Repeat (1) and (2) for all pairs of nodes.\n"
   ]
  },
  {
   "cell_type": "markdown",
   "metadata": {},
   "source": [
    "### Gilbert random graph model"
   ]
  },
  {
   "cell_type": "code",
   "execution_count": null,
   "metadata": {},
   "outputs": [],
   "source": [
    "def gnp_random_graph(N, p):\n",
    "    G = nx.Graph()\n",
    "    G.add_nodes_from(range(N))\n",
    "    \n",
    "    for i, j in itertools.combinations(G.nodes(), 2):\n",
    "        r = random.random()\n",
    "        if r < p:\n",
    "            G.add_edge(i, j)\n",
    "        # Do nothing if r >= p\n",
    "        \n",
    "    return G"
   ]
  },
  {
   "cell_type": "markdown",
   "metadata": {},
   "source": [
    "We can use this function to generate a graph. Since this is a random graph, each execution of the following code will generate a different graph. "
   ]
  },
  {
   "cell_type": "code",
   "execution_count": null,
   "metadata": {},
   "outputs": [],
   "source": [
    "G = gnp_random_graph(100, 0.1)\n",
    "nx.draw(G)\n",
    "print('Graph has', G.number_of_edges(), 'edges.')"
   ]
  },
  {
   "cell_type": "markdown",
   "metadata": {},
   "source": [
    "Run the above cell a few times and note that the number of edges varies slightly among random graphs generated with the same parameters. This is because each pair of nodes has an independent chance of being an edge."
   ]
  },
  {
   "cell_type": "markdown",
   "metadata": {},
   "source": [
    "### Erdös-Rényi random graph model\n",
    "\n",
    "Instead of specifying the link probability $p$, we can also generate a graph of $N$ nodes with exactly $M$ edges by using `random.sample()` to choose M of the possible edges generated with `itertools.combinations()`:"
   ]
  },
  {
   "cell_type": "code",
   "execution_count": null,
   "metadata": {},
   "outputs": [],
   "source": [
    "def gnm_random_graph(N, M):\n",
    "    G = nx.Graph()\n",
    "    G.add_nodes_from(range(N))\n",
    "    \n",
    "    possible_edges = itertools.combinations(G.nodes(), 2)\n",
    "    edges_to_add = random.sample(list(possible_edges), M)\n",
    "    G.add_edges_from(edges_to_add)\n",
    "    \n",
    "    return G"
   ]
  },
  {
   "cell_type": "code",
   "execution_count": null,
   "metadata": {},
   "outputs": [],
   "source": [
    "G = gnm_random_graph(100, 300)\n",
    "pos = nx.spring_layout(G)\n",
    "nx.draw(G,edgecolors='lightblue')\n",
    "plt.savefig('graph_er.jpg')"
   ]
  },
  {
   "cell_type": "markdown",
   "metadata": {},
   "source": [
    "### NetworkX functions\n",
    "\n",
    "NetworkX has a function for the $G_{n,p}$ random graph specifying number of nodes $N$ and link probability $p$:  [gnp_random_graph()](https://networkx.github.io/documentation/stable/reference/generated/networkx.generators.random_graphs.gnp_random_graph.html).\n",
    "\n",
    "In addition, NetworkX provides [gnm_random_graph()](https://networkx.github.io/documentation/stable/reference/generated/networkx.generators.random_graphs.gnm_random_graph.html), which generates a $G_{n,m}$ graph, where we specify the number of nodes $N$ and the desired number of edges $M$."
   ]
  },
  {
   "cell_type": "code",
   "execution_count": null,
   "metadata": {},
   "outputs": [],
   "source": [
    "degrees = dict(G.degree()).values() # degree returns a view object DegreeView  \n",
    "degree_hist = plt.hist(list(degrees), 100)\n",
    "plt.xlabel('Degree')\n",
    "plt.ylabel('# nodes')\n",
    "plt.title('Degree distribution of the Erdos-Renyi network')\n",
    "#plt.show()\n",
    "plt.savefig('histo_er.jpg')\n",
    "plt.show()"
   ]
  },
  {
   "cell_type": "markdown",
   "metadata": {},
   "source": [
    "## 2. Small-World Model\n",
    "\n",
    "The Small-World Model, introduced by Watts and Strogatz, describes **networks that are highly clustered like regular lattices but have small average path lengths similar to random graphs**. This model captures the idea that even in large networks, the distance between any two nodes is relatively short, echoing the \"six degrees of separation\" phenomenon.\n",
    "\n",
    "The algorithm for generating a small-world network is as such:\n",
    "\n",
    "1. Begin with a ring of $N$ nodes\n",
    "2. Connect each node to its $k$ nearest neighbors (or $k-1$ if k is odd).\n",
    "3. For each edge $(u, v)$, with probability $p$, replace edge $(u, v)$ with $(u, w)$ where $w$ is not a neighbor of $u$.\n",
    "\n",
    "We'll do these step-by-step first, and combine them into a function last.\n",
    "\n",
    "### Create a ring of N nodes"
   ]
  },
  {
   "cell_type": "code",
   "execution_count": null,
   "metadata": {},
   "outputs": [],
   "source": [
    "N = 10\n",
    "G = nx.cycle_graph(N)\n",
    "nx.draw_circular(G, with_labels=True)"
   ]
  },
  {
   "cell_type": "markdown",
   "metadata": {},
   "source": [
    "### Connect each node to its $k$ nearest neighbors\n",
    "\n",
    "We'll use modular arithmetic in order to do this. As an example of why, let's say $k$ is 4. So for node $n$, we want to add edges to $n$'s 4 nearest neighbors: $n-1, n+1, n-2,$ and $n+2.$ Since our nodes are in a circle, these can \"wrap around\", *e.g.* the 4 nearest neighbors of node 0 are N-1, 1, N-2, and 2.\n",
    "\n",
    "Note the use of integer division (//) below. Integer division throws away the fractional part of division, e.g.\n",
    "\n",
    "    5 // 2 = 2"
   ]
  },
  {
   "cell_type": "code",
   "execution_count": null,
   "metadata": {},
   "outputs": [],
   "source": [
    "k = 4\n",
    "\n",
    "for n in G.nodes():\n",
    "    for i in range(1, k // 2 + 1):\n",
    "        left  = (n-i) % N\n",
    "        right = (n+i) % N \n",
    "        G.add_edge(n, left)\n",
    "        G.add_edge(n, right)\n",
    "\n",
    "nx.draw_circular(G, with_labels=True)"
   ]
  },
  {
   "cell_type": "markdown",
   "metadata": {},
   "source": [
    "### Rewire some edges\n",
    "\n",
    "> For each edge $(u, v)$, with probability $p$, replace edge $(u, v)$ with (u, w) where $w$ is not a neighbor of $u$.\n",
    "\n",
    "For this step, we make use of set arithmetic in order to generate a list of nodes that are not neighbors of $u$, and `random.choice` to select $w$ at random from that set of \"not neighbors.\""
   ]
  },
  {
   "cell_type": "code",
   "execution_count": null,
   "metadata": {},
   "outputs": [],
   "source": [
    "p = 0.01\n",
    "\n",
    "for u, v in list(G.edges()):\n",
    "    if random.random() < p:\n",
    "        not_neighbors = set(G.nodes()) - set(G.neighbors(u))\n",
    "        w = random.choice(list(not_neighbors))\n",
    "        G.remove_edge(u, v)\n",
    "        G.add_edge(u, w)\n",
    "\n",
    "nx.draw_circular(G, with_labels=True)"
   ]
  },
  {
   "cell_type": "markdown",
   "metadata": {},
   "source": [
    "### Watts-Strogatz Small-World Model\n",
    "\n",
    "We can put this together to write a basic function for the small-world model:"
   ]
  },
  {
   "cell_type": "code",
   "execution_count": null,
   "metadata": {},
   "outputs": [],
   "source": [
    "def watts_strogatz_graph(N, k, p):\n",
    "    # 1. Create a ring of N nodes\n",
    "    G = nx.cycle_graph(N)\n",
    "\n",
    "    # 2. Connect each node n to k nearest neighbors\n",
    "    #    [n-(k//2), ... , n-1, n+1, ... , n+(k//2)]\n",
    "    for n in G.nodes():\n",
    "        for i in range(1, k // 2 + 1):\n",
    "            left  = (n-i) % N\n",
    "            right = (n+i) % N \n",
    "            G.add_edge(n, left)\n",
    "            G.add_edge(n, right)\n",
    "    \n",
    "    # 3. Rewire edges with probability p\n",
    "    for u, v in list(G.edges()):\n",
    "        if random.random() < p:\n",
    "            not_neighbors = set(G.nodes()) - set(G.neighbors(u)) - {u}\n",
    "            w = random.choice(list(not_neighbors))\n",
    "            G.remove_edge(u, v)\n",
    "            G.add_edge(u, w)\n",
    "\n",
    "    return G"
   ]
  },
  {
   "cell_type": "code",
   "execution_count": null,
   "metadata": {},
   "outputs": [],
   "source": [
    "G = watts_strogatz_graph(200, 4, 0.1)\n",
    "nx.draw_circular(G, with_labels=True)"
   ]
  },
  {
   "cell_type": "code",
   "execution_count": null,
   "metadata": {},
   "outputs": [],
   "source": [
    "# Average distance\n",
    "nx.average_shortest_path_length(G)"
   ]
  },
  {
   "cell_type": "markdown",
   "metadata": {},
   "source": [
    "### NetworkX function\n",
    "\n",
    "NetworkX has a function for this model: [watts_strogatz_graph()](https://networkx.github.io/documentation/stable/reference/generated/networkx.generators.random_graphs.watts_strogatz_graph.html)."
   ]
  },
  {
   "cell_type": "markdown",
   "metadata": {},
   "source": [
    "## 3. Preferential Attachment Model\n",
    "\n",
    "The Preferential Attachment Model, also known as the Barabási–Albert model, explains the **emergence of networks with a few highly connected nodes (hubs) and many nodes with fewer connections**. This model is based on the principle that nodes with more connections are more likely to receive new connections, leading to a \"rich-get-richer\" effect.\n",
    "\n",
    "\n",
    "*The \"rich-get-richer\" effect, also known as **preferential attachment**, is a phenomenon observed in many complex networks where nodes that already have many connections are **more likely to acquire even more connections over time**. This leads to the formation of hubs or highly connected nodes, resulting in a network with a few nodes having many connections and many nodes having few connections.*\n",
    "\n",
    "\n",
    "\n",
    "The Barabási-Albert preferential attachment model has two parameters: the number of nodes $N$, and the number of links added at each step $m$. Given these parameters, the algorithm is as follows:\n",
    "\n",
    "1. Start with a clique of $m + 1$ nodes.\n",
    "2. Select $m$ different nodes at random, weighted by their degree.\n",
    "3. Add a new node $i$ and link it with the $m$ nodes from the previous step.\n",
    "4. Repeat 2-3 until there are N nodes in the graph.\n",
    "\n",
    "The code for this is thus straightforward, with one possible exception: for step 3, we need to generate a *degree sequence* to weight the random selection. If we have a graph `G`, we can generate such a degree sequence with a list comprehension as follows:"
   ]
  },
  {
   "cell_type": "code",
   "execution_count": null,
   "metadata": {},
   "outputs": [],
   "source": [
    "G = nx.star_graph(4)\n",
    "degrees = [G.degree(n) for n in G.nodes()]\n",
    "\n",
    "print(degrees)\n",
    "nx.draw(G, with_labels=True)"
   ]
  },
  {
   "cell_type": "markdown",
   "metadata": {},
   "source": [
    "Note that the degree sequence is output in the same order as the nodes, such that the node at index $i$ in that list has the degree at index $i$ of the corresponding degree sequence. With this, we can write a function for the BA preferential attachment model:"
   ]
  },
  {
   "cell_type": "code",
   "execution_count": null,
   "metadata": {},
   "outputs": [],
   "source": [
    "def barabasi_albert_graph(N, m):\n",
    "    # 1. Start with a clique of m+1 nodes\n",
    "    G = nx.complete_graph(m + 1)\n",
    "    for i in range(G.number_of_nodes(), N):\n",
    "        # 2. Select m different nodes at random, weighted by their degree.\n",
    "        new_neighbors = []\n",
    "        possible_neighbors = list(G.nodes())\n",
    "        for _ in range(m):\n",
    "            degrees = [G.degree(n) for n in possible_neighbors]\n",
    "            \n",
    "            j = random.choices(possible_neighbors, degrees)[0]\n",
    "            new_neighbors.append(j)\n",
    "            possible_neighbors.remove(j)\n",
    "        \n",
    "        # 3. Add a new node i and link it with the m nodes from the previous step.\n",
    "        for j in new_neighbors:\n",
    "            G.add_edge(i, j)\n",
    "\n",
    "    return G"
   ]
  },
  {
   "cell_type": "code",
   "execution_count": null,
   "metadata": {},
   "outputs": [],
   "source": [
    "G = barabasi_albert_graph(200, 2)\n",
    "nx.draw(G)\n",
    "plt.savefig('graph_ba.jpg')"
   ]
  },
  {
   "cell_type": "markdown",
   "metadata": {},
   "source": [
    "One might wonder why, in the previous code for `preferential_attachment_graph`, we didn't just write step 2 as\n",
    "\n",
    "    new_neighbors = random.choices(G.nodes, degrees, k=m)\n",
    "    \n",
    "The issue here is that when one specifies $k > 1$ for `random.choices`, the selection is made with replacement, *i.e.* the same node can be selected from the list multiple times. The more complicated code is necessary so that we choose $m$ different nodes to join with node $i$.\n",
    "\n",
    "### NetworkX function\n",
    "\n",
    "As with all of these graph models, NetworkX has a function to generate a BA model: [barabasi_albert_graph()](https://networkx.github.io/documentation/stable/reference/generated/networkx.generators.random_graphs.barabasi_albert_graph.html)."
   ]
  },
  {
   "cell_type": "code",
   "execution_count": null,
   "metadata": {},
   "outputs": [],
   "source": [
    "G_BA = nx.barabasi_albert_graph(2000, 1)\n",
    "nx.draw(G_BA,edgecolors='lightblue')\n",
    "plt.savefig('graph_er.jpg')"
   ]
  },
  {
   "cell_type": "code",
   "execution_count": null,
   "metadata": {},
   "outputs": [],
   "source": [
    "degrees = dict(G_BA.degree()).values() # degree returns a view object DegreeView  \n",
    "degree_hist = plt.hist(list(degrees), 100)\n",
    "plt.xlabel('Degree')\n",
    "plt.ylabel('# nodes')\n",
    "plt.title('Degree distribution of the Barabasi-Albert network')\n",
    "#plt.show()\n",
    "plt.xscale('log')\n",
    "plt.yscale('log')\n",
    "plt.savefig('histo_ba.jpg')\n",
    "plt.show()"
   ]
  },
  {
   "cell_type": "code",
   "execution_count": null,
   "metadata": {},
   "outputs": [],
   "source": [
    "from platform import python_version\n",
    "print(python_version())"
   ]
  }
 ],
 "metadata": {
  "kernelspec": {
   "display_name": "Python 3 (ipykernel)",
   "language": "python",
   "name": "python3"
  },
  "language_info": {
   "codemirror_mode": {
    "name": "ipython",
    "version": 3
   },
   "file_extension": ".py",
   "mimetype": "text/x-python",
   "name": "python",
   "nbconvert_exporter": "python",
   "pygments_lexer": "ipython3",
   "version": "3.11.5"
  }
 },
 "nbformat": 4,
 "nbformat_minor": 2
}
